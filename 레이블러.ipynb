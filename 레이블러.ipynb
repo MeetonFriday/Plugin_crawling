{
  "nbformat": 4,
  "nbformat_minor": 0,
  "metadata": {
    "colab": {
      "name": "레이블러.ipynb",
      "provenance": [],
      "collapsed_sections": []
    },
    "kernelspec": {
      "name": "python3",
      "display_name": "Python 3"
    },
    "language_info": {
      "name": "python"
    }
  },
  "cells": [
    {
      "cell_type": "code",
      "metadata": {
        "id": "9NXKfd_EGjRa"
      },
      "source": [
        "# 아이디와 비밀번호를 입력해주세요\n",
        "# 아이디와 비밀번호를 입력한 후 기본적으로 모두 실행을 하면 되지만, 만약 오류가 나왔을 경우 다시 실행해야하는 부분은 따로 표시해두었습니다\n",
        "id = ''\n",
        "password = ''"
      ],
      "execution_count": null,
      "outputs": []
    },
    {
      "cell_type": "code",
      "metadata": {
        "id": "mYPnQdbDQNuE",
        "colab": {
          "base_uri": "https://localhost:8080/"
        },
        "outputId": "02450741-6ac4-45ca-d45f-1f58f0d55e26"
      },
      "source": [
        "# COLAP selenium환경 설정\n",
        "!pip install selenium\n",
        "!apt-get update\n",
        "!apt install chromium-chromedriver\n",
        "\n",
        "from selenium import webdriver\n",
        "from urllib.request import urlopen\n",
        "from bs4 import BeautifulSoup as bs\n",
        "from urllib.parse import quote_plus\n",
        "from selenium.webdriver.common.keys import Keys\n",
        "from selenium.webdriver.common.by import By\n",
        "from selenium.webdriver.support.ui import WebDriverWait\n",
        "from selenium.webdriver.support import expected_conditions as EC\n",
        "from selenium.webdriver import ActionChains\n",
        "import pandas as pd\n",
        "import csv\n",
        "import time\n",
        "\n",
        "\n",
        "chrome_options = webdriver.ChromeOptions()\n",
        "chrome_options.add_argument('--headless')\n",
        "chrome_options.add_argument('--no-sandbox')\n",
        "chrome_options.add_argument('--disable-dev-shm-usage')\n",
        "driver = webdriver.Chrome('chromedriver', chrome_options=chrome_options)"
      ],
      "execution_count": null,
      "outputs": [
        {
          "output_type": "stream",
          "name": "stdout",
          "text": [
            "Collecting selenium\n",
            "  Downloading selenium-4.1.0-py3-none-any.whl (958 kB)\n",
            "\u001b[?25l\r\u001b[K     |▍                               | 10 kB 24.2 MB/s eta 0:00:01\r\u001b[K     |▊                               | 20 kB 32.9 MB/s eta 0:00:01\r\u001b[K     |█                               | 30 kB 38.9 MB/s eta 0:00:01\r\u001b[K     |█▍                              | 40 kB 29.3 MB/s eta 0:00:01\r\u001b[K     |█▊                              | 51 kB 16.5 MB/s eta 0:00:01\r\u001b[K     |██                              | 61 kB 14.6 MB/s eta 0:00:01\r\u001b[K     |██▍                             | 71 kB 13.4 MB/s eta 0:00:01\r\u001b[K     |██▊                             | 81 kB 14.9 MB/s eta 0:00:01\r\u001b[K     |███                             | 92 kB 13.8 MB/s eta 0:00:01\r\u001b[K     |███▍                            | 102 kB 14.0 MB/s eta 0:00:01\r\u001b[K     |███▊                            | 112 kB 14.0 MB/s eta 0:00:01\r\u001b[K     |████                            | 122 kB 14.0 MB/s eta 0:00:01\r\u001b[K     |████▍                           | 133 kB 14.0 MB/s eta 0:00:01\r\u001b[K     |████▉                           | 143 kB 14.0 MB/s eta 0:00:01\r\u001b[K     |█████▏                          | 153 kB 14.0 MB/s eta 0:00:01\r\u001b[K     |█████▌                          | 163 kB 14.0 MB/s eta 0:00:01\r\u001b[K     |█████▉                          | 174 kB 14.0 MB/s eta 0:00:01\r\u001b[K     |██████▏                         | 184 kB 14.0 MB/s eta 0:00:01\r\u001b[K     |██████▌                         | 194 kB 14.0 MB/s eta 0:00:01\r\u001b[K     |██████▉                         | 204 kB 14.0 MB/s eta 0:00:01\r\u001b[K     |███████▏                        | 215 kB 14.0 MB/s eta 0:00:01\r\u001b[K     |███████▌                        | 225 kB 14.0 MB/s eta 0:00:01\r\u001b[K     |███████▉                        | 235 kB 14.0 MB/s eta 0:00:01\r\u001b[K     |████████▏                       | 245 kB 14.0 MB/s eta 0:00:01\r\u001b[K     |████████▌                       | 256 kB 14.0 MB/s eta 0:00:01\r\u001b[K     |████████▉                       | 266 kB 14.0 MB/s eta 0:00:01\r\u001b[K     |█████████▎                      | 276 kB 14.0 MB/s eta 0:00:01\r\u001b[K     |█████████▋                      | 286 kB 14.0 MB/s eta 0:00:01\r\u001b[K     |██████████                      | 296 kB 14.0 MB/s eta 0:00:01\r\u001b[K     |██████████▎                     | 307 kB 14.0 MB/s eta 0:00:01\r\u001b[K     |██████████▋                     | 317 kB 14.0 MB/s eta 0:00:01\r\u001b[K     |███████████                     | 327 kB 14.0 MB/s eta 0:00:01\r\u001b[K     |███████████▎                    | 337 kB 14.0 MB/s eta 0:00:01\r\u001b[K     |███████████▋                    | 348 kB 14.0 MB/s eta 0:00:01\r\u001b[K     |████████████                    | 358 kB 14.0 MB/s eta 0:00:01\r\u001b[K     |████████████▎                   | 368 kB 14.0 MB/s eta 0:00:01\r\u001b[K     |████████████▋                   | 378 kB 14.0 MB/s eta 0:00:01\r\u001b[K     |█████████████                   | 389 kB 14.0 MB/s eta 0:00:01\r\u001b[K     |█████████████▎                  | 399 kB 14.0 MB/s eta 0:00:01\r\u001b[K     |█████████████▊                  | 409 kB 14.0 MB/s eta 0:00:01\r\u001b[K     |██████████████                  | 419 kB 14.0 MB/s eta 0:00:01\r\u001b[K     |██████████████▍                 | 430 kB 14.0 MB/s eta 0:00:01\r\u001b[K     |██████████████▊                 | 440 kB 14.0 MB/s eta 0:00:01\r\u001b[K     |███████████████                 | 450 kB 14.0 MB/s eta 0:00:01\r\u001b[K     |███████████████▍                | 460 kB 14.0 MB/s eta 0:00:01\r\u001b[K     |███████████████▊                | 471 kB 14.0 MB/s eta 0:00:01\r\u001b[K     |████████████████                | 481 kB 14.0 MB/s eta 0:00:01\r\u001b[K     |████████████████▍               | 491 kB 14.0 MB/s eta 0:00:01\r\u001b[K     |████████████████▊               | 501 kB 14.0 MB/s eta 0:00:01\r\u001b[K     |█████████████████               | 512 kB 14.0 MB/s eta 0:00:01\r\u001b[K     |█████████████████▍              | 522 kB 14.0 MB/s eta 0:00:01\r\u001b[K     |█████████████████▊              | 532 kB 14.0 MB/s eta 0:00:01\r\u001b[K     |██████████████████▏             | 542 kB 14.0 MB/s eta 0:00:01\r\u001b[K     |██████████████████▌             | 552 kB 14.0 MB/s eta 0:00:01\r\u001b[K     |██████████████████▉             | 563 kB 14.0 MB/s eta 0:00:01\r\u001b[K     |███████████████████▏            | 573 kB 14.0 MB/s eta 0:00:01\r\u001b[K     |███████████████████▌            | 583 kB 14.0 MB/s eta 0:00:01\r\u001b[K     |███████████████████▉            | 593 kB 14.0 MB/s eta 0:00:01\r\u001b[K     |████████████████████▏           | 604 kB 14.0 MB/s eta 0:00:01\r\u001b[K     |████████████████████▌           | 614 kB 14.0 MB/s eta 0:00:01\r\u001b[K     |████████████████████▉           | 624 kB 14.0 MB/s eta 0:00:01\r\u001b[K     |█████████████████████▏          | 634 kB 14.0 MB/s eta 0:00:01\r\u001b[K     |█████████████████████▌          | 645 kB 14.0 MB/s eta 0:00:01\r\u001b[K     |█████████████████████▉          | 655 kB 14.0 MB/s eta 0:00:01\r\u001b[K     |██████████████████████▏         | 665 kB 14.0 MB/s eta 0:00:01\r\u001b[K     |██████████████████████▋         | 675 kB 14.0 MB/s eta 0:00:01\r\u001b[K     |███████████████████████         | 686 kB 14.0 MB/s eta 0:00:01\r\u001b[K     |███████████████████████▎        | 696 kB 14.0 MB/s eta 0:00:01\r\u001b[K     |███████████████████████▋        | 706 kB 14.0 MB/s eta 0:00:01\r\u001b[K     |████████████████████████        | 716 kB 14.0 MB/s eta 0:00:01\r\u001b[K     |████████████████████████▎       | 727 kB 14.0 MB/s eta 0:00:01\r\u001b[K     |████████████████████████▋       | 737 kB 14.0 MB/s eta 0:00:01\r\u001b[K     |█████████████████████████       | 747 kB 14.0 MB/s eta 0:00:01\r\u001b[K     |█████████████████████████▎      | 757 kB 14.0 MB/s eta 0:00:01\r\u001b[K     |█████████████████████████▋      | 768 kB 14.0 MB/s eta 0:00:01\r\u001b[K     |██████████████████████████      | 778 kB 14.0 MB/s eta 0:00:01\r\u001b[K     |██████████████████████████▎     | 788 kB 14.0 MB/s eta 0:00:01\r\u001b[K     |██████████████████████████▋     | 798 kB 14.0 MB/s eta 0:00:01\r\u001b[K     |███████████████████████████     | 808 kB 14.0 MB/s eta 0:00:01\r\u001b[K     |███████████████████████████▍    | 819 kB 14.0 MB/s eta 0:00:01\r\u001b[K     |███████████████████████████▊    | 829 kB 14.0 MB/s eta 0:00:01\r\u001b[K     |████████████████████████████    | 839 kB 14.0 MB/s eta 0:00:01\r\u001b[K     |████████████████████████████▍   | 849 kB 14.0 MB/s eta 0:00:01\r\u001b[K     |████████████████████████████▊   | 860 kB 14.0 MB/s eta 0:00:01\r\u001b[K     |█████████████████████████████   | 870 kB 14.0 MB/s eta 0:00:01\r\u001b[K     |█████████████████████████████▍  | 880 kB 14.0 MB/s eta 0:00:01\r\u001b[K     |█████████████████████████████▊  | 890 kB 14.0 MB/s eta 0:00:01\r\u001b[K     |██████████████████████████████  | 901 kB 14.0 MB/s eta 0:00:01\r\u001b[K     |██████████████████████████████▍ | 911 kB 14.0 MB/s eta 0:00:01\r\u001b[K     |██████████████████████████████▊ | 921 kB 14.0 MB/s eta 0:00:01\r\u001b[K     |███████████████████████████████ | 931 kB 14.0 MB/s eta 0:00:01\r\u001b[K     |███████████████████████████████▍| 942 kB 14.0 MB/s eta 0:00:01\r\u001b[K     |███████████████████████████████▉| 952 kB 14.0 MB/s eta 0:00:01\r\u001b[K     |████████████████████████████████| 958 kB 14.0 MB/s \n",
            "\u001b[?25hCollecting urllib3[secure]~=1.26\n",
            "  Downloading urllib3-1.26.7-py2.py3-none-any.whl (138 kB)\n",
            "\u001b[K     |████████████████████████████████| 138 kB 67.3 MB/s \n",
            "\u001b[?25hCollecting trio~=0.17\n",
            "  Downloading trio-0.19.0-py3-none-any.whl (356 kB)\n",
            "\u001b[K     |████████████████████████████████| 356 kB 76.4 MB/s \n",
            "\u001b[?25hCollecting trio-websocket~=0.9\n",
            "  Downloading trio_websocket-0.9.2-py3-none-any.whl (16 kB)\n",
            "Requirement already satisfied: attrs>=19.2.0 in /usr/local/lib/python3.7/dist-packages (from trio~=0.17->selenium) (21.2.0)\n",
            "Requirement already satisfied: idna in /usr/local/lib/python3.7/dist-packages (from trio~=0.17->selenium) (2.10)\n",
            "Collecting outcome\n",
            "  Downloading outcome-1.1.0-py2.py3-none-any.whl (9.7 kB)\n",
            "Collecting async-generator>=1.9\n",
            "  Downloading async_generator-1.10-py3-none-any.whl (18 kB)\n",
            "Requirement already satisfied: sortedcontainers in /usr/local/lib/python3.7/dist-packages (from trio~=0.17->selenium) (2.4.0)\n",
            "Collecting sniffio\n",
            "  Downloading sniffio-1.2.0-py3-none-any.whl (10 kB)\n",
            "Collecting wsproto>=0.14\n",
            "  Downloading wsproto-1.0.0-py3-none-any.whl (24 kB)\n",
            "Requirement already satisfied: certifi in /usr/local/lib/python3.7/dist-packages (from urllib3[secure]~=1.26->selenium) (2021.10.8)\n",
            "Collecting pyOpenSSL>=0.14\n",
            "  Downloading pyOpenSSL-21.0.0-py2.py3-none-any.whl (55 kB)\n",
            "\u001b[K     |████████████████████████████████| 55 kB 2.8 MB/s \n",
            "\u001b[?25hCollecting cryptography>=1.3.4\n",
            "  Downloading cryptography-36.0.0-cp36-abi3-manylinux_2_24_x86_64.whl (3.6 MB)\n",
            "\u001b[K     |████████████████████████████████| 3.6 MB 59.6 MB/s \n",
            "\u001b[?25hRequirement already satisfied: cffi>=1.12 in /usr/local/lib/python3.7/dist-packages (from cryptography>=1.3.4->urllib3[secure]~=1.26->selenium) (1.15.0)\n",
            "Requirement already satisfied: pycparser in /usr/local/lib/python3.7/dist-packages (from cffi>=1.12->cryptography>=1.3.4->urllib3[secure]~=1.26->selenium) (2.21)\n",
            "Requirement already satisfied: six>=1.5.2 in /usr/local/lib/python3.7/dist-packages (from pyOpenSSL>=0.14->urllib3[secure]~=1.26->selenium) (1.15.0)\n",
            "Collecting h11<1,>=0.9.0\n",
            "  Downloading h11-0.12.0-py3-none-any.whl (54 kB)\n",
            "\u001b[K     |████████████████████████████████| 54 kB 2.8 MB/s \n",
            "\u001b[?25hInstalling collected packages: sniffio, outcome, h11, cryptography, async-generator, wsproto, urllib3, trio, pyOpenSSL, trio-websocket, selenium\n",
            "  Attempting uninstall: urllib3\n",
            "    Found existing installation: urllib3 1.24.3\n",
            "    Uninstalling urllib3-1.24.3:\n",
            "      Successfully uninstalled urllib3-1.24.3\n",
            "\u001b[31mERROR: pip's dependency resolver does not currently take into account all the packages that are installed. This behaviour is the source of the following dependency conflicts.\n",
            "requests 2.23.0 requires urllib3!=1.25.0,!=1.25.1,<1.26,>=1.21.1, but you have urllib3 1.26.7 which is incompatible.\n",
            "datascience 0.10.6 requires folium==0.2.1, but you have folium 0.8.3 which is incompatible.\u001b[0m\n",
            "Successfully installed async-generator-1.10 cryptography-36.0.0 h11-0.12.0 outcome-1.1.0 pyOpenSSL-21.0.0 selenium-4.1.0 sniffio-1.2.0 trio-0.19.0 trio-websocket-0.9.2 urllib3-1.26.7 wsproto-1.0.0\n",
            "Get:1 http://ppa.launchpad.net/c2d4u.team/c2d4u4.0+/ubuntu bionic InRelease [15.9 kB]\n",
            "Hit:2 http://archive.ubuntu.com/ubuntu bionic InRelease\n",
            "Get:3 http://archive.ubuntu.com/ubuntu bionic-updates InRelease [88.7 kB]\n",
            "Get:4 https://cloud.r-project.org/bin/linux/ubuntu bionic-cran40/ InRelease [3,626 B]\n",
            "Hit:5 http://ppa.launchpad.net/cran/libgit2/ubuntu bionic InRelease\n",
            "Get:6 http://archive.ubuntu.com/ubuntu bionic-backports InRelease [74.6 kB]\n",
            "Hit:7 http://ppa.launchpad.net/deadsnakes/ppa/ubuntu bionic InRelease\n",
            "Hit:8 http://ppa.launchpad.net/graphics-drivers/ppa/ubuntu bionic InRelease\n",
            "Get:9 http://security.ubuntu.com/ubuntu bionic-security InRelease [88.7 kB]\n",
            "Ign:10 https://developer.download.nvidia.com/compute/cuda/repos/ubuntu1804/x86_64  InRelease\n",
            "Ign:11 https://developer.download.nvidia.com/compute/machine-learning/repos/ubuntu1804/x86_64  InRelease\n",
            "Hit:12 https://developer.download.nvidia.com/compute/cuda/repos/ubuntu1804/x86_64  Release\n",
            "Hit:13 https://developer.download.nvidia.com/compute/machine-learning/repos/ubuntu1804/x86_64  Release\n",
            "Get:14 http://ppa.launchpad.net/c2d4u.team/c2d4u4.0+/ubuntu bionic/main Sources [1,812 kB]\n",
            "Get:15 http://ppa.launchpad.net/c2d4u.team/c2d4u4.0+/ubuntu bionic/main amd64 Packages [928 kB]\n",
            "Get:16 http://archive.ubuntu.com/ubuntu bionic-updates/main amd64 Packages [2,867 kB]\n",
            "Get:17 http://archive.ubuntu.com/ubuntu bionic-updates/universe amd64 Packages [2,222 kB]\n",
            "Fetched 8,101 kB in 2s (4,184 kB/s)\n",
            "Reading package lists... Done\n",
            "Reading package lists... Done\n",
            "Building dependency tree       \n",
            "Reading state information... Done\n",
            "The following additional packages will be installed:\n",
            "  chromium-browser chromium-browser-l10n chromium-codecs-ffmpeg-extra\n",
            "Suggested packages:\n",
            "  webaccounts-chromium-extension unity-chromium-extension\n",
            "The following NEW packages will be installed:\n",
            "  chromium-browser chromium-browser-l10n chromium-chromedriver\n",
            "  chromium-codecs-ffmpeg-extra\n",
            "0 upgraded, 4 newly installed, 0 to remove and 39 not upgraded.\n",
            "Need to get 94.0 MB of archives.\n",
            "After this operation, 324 MB of additional disk space will be used.\n",
            "Get:1 http://archive.ubuntu.com/ubuntu bionic-updates/universe amd64 chromium-codecs-ffmpeg-extra amd64 95.0.4638.69-0ubuntu0.18.04.1 [1,135 kB]\n",
            "Get:2 http://archive.ubuntu.com/ubuntu bionic-updates/universe amd64 chromium-browser amd64 95.0.4638.69-0ubuntu0.18.04.1 [83.6 MB]\n",
            "Get:3 http://archive.ubuntu.com/ubuntu bionic-updates/universe amd64 chromium-browser-l10n all 95.0.4638.69-0ubuntu0.18.04.1 [4,249 kB]\n",
            "Get:4 http://archive.ubuntu.com/ubuntu bionic-updates/universe amd64 chromium-chromedriver amd64 95.0.4638.69-0ubuntu0.18.04.1 [4,986 kB]\n",
            "Fetched 94.0 MB in 2s (60.7 MB/s)\n",
            "Selecting previously unselected package chromium-codecs-ffmpeg-extra.\n",
            "(Reading database ... 155222 files and directories currently installed.)\n",
            "Preparing to unpack .../chromium-codecs-ffmpeg-extra_95.0.4638.69-0ubuntu0.18.04.1_amd64.deb ...\n",
            "Unpacking chromium-codecs-ffmpeg-extra (95.0.4638.69-0ubuntu0.18.04.1) ...\n",
            "Selecting previously unselected package chromium-browser.\n",
            "Preparing to unpack .../chromium-browser_95.0.4638.69-0ubuntu0.18.04.1_amd64.deb ...\n",
            "Unpacking chromium-browser (95.0.4638.69-0ubuntu0.18.04.1) ...\n",
            "Selecting previously unselected package chromium-browser-l10n.\n",
            "Preparing to unpack .../chromium-browser-l10n_95.0.4638.69-0ubuntu0.18.04.1_all.deb ...\n",
            "Unpacking chromium-browser-l10n (95.0.4638.69-0ubuntu0.18.04.1) ...\n",
            "Selecting previously unselected package chromium-chromedriver.\n",
            "Preparing to unpack .../chromium-chromedriver_95.0.4638.69-0ubuntu0.18.04.1_amd64.deb ...\n",
            "Unpacking chromium-chromedriver (95.0.4638.69-0ubuntu0.18.04.1) ...\n",
            "Setting up chromium-codecs-ffmpeg-extra (95.0.4638.69-0ubuntu0.18.04.1) ...\n",
            "Setting up chromium-browser (95.0.4638.69-0ubuntu0.18.04.1) ...\n",
            "update-alternatives: using /usr/bin/chromium-browser to provide /usr/bin/x-www-browser (x-www-browser) in auto mode\n",
            "update-alternatives: using /usr/bin/chromium-browser to provide /usr/bin/gnome-www-browser (gnome-www-browser) in auto mode\n",
            "Setting up chromium-chromedriver (95.0.4638.69-0ubuntu0.18.04.1) ...\n",
            "Setting up chromium-browser-l10n (95.0.4638.69-0ubuntu0.18.04.1) ...\n",
            "Processing triggers for man-db (2.8.3-2ubuntu0.1) ...\n",
            "Processing triggers for hicolor-icon-theme (0.17-2) ...\n",
            "Processing triggers for mime-support (3.60ubuntu1) ...\n",
            "Processing triggers for libc-bin (2.27-3ubuntu1.3) ...\n",
            "/sbin/ldconfig.real: /usr/local/lib/python3.7/dist-packages/ideep4py/lib/libmkldnn.so.0 is not a symbolic link\n",
            "\n"
          ]
        },
        {
          "output_type": "stream",
          "name": "stderr",
          "text": [
            "/usr/local/lib/python3.7/dist-packages/ipykernel_launcher.py:24: DeprecationWarning: use options instead of chrome_options\n"
          ]
        }
      ]
    },
    {
      "cell_type": "code",
      "metadata": {
        "id": "giMPFLrbP8JW"
      },
      "source": [
        "# 만약 밑에서 오류가 날경우 대부분 로그인이 씹혀서 발생한 겁니다 \n",
        "# 이부분부터 다시 실행 해주시면 가능할껍니다\n",
        "action = ActionChains(driver)\n",
        "login_url = 'https://app.deepnatural.ai/Auth/SignIn'\n",
        "driver.get(login_url)\n",
        "\n",
        "driver.current_url\n",
        "time.sleep(2)\n",
        "\n",
        "input_eamil = driver.find_element(By.NAME, 'email')\n",
        "input_eamil.send_keys(id)\n",
        "\n",
        "input_password = driver.find_element(By.NAME, 'password')\n",
        "input_password.send_keys(password, Keys.ENTER)"
      ],
      "execution_count": null,
      "outputs": []
    },
    {
      "cell_type": "code",
      "metadata": {
        "id": "Zt-TCzfeWYha",
        "colab": {
          "base_uri": "https://localhost:8080/"
        },
        "outputId": "683aca7f-ee59-4cb6-b532-21d25d8efb02"
      },
      "source": [
        "# 사이트가 매일 생성되는 배너의 갯수가 달라집니다.\n",
        "# 생성되는 배너의 갯수만큼 이 코드를 반복 실행하면 됩니다.\n",
        "# 'check.png' 이미지 파일이 생성 되는데 해당 이미지 파일에서 어떠한 배너도 보이지 않으면 됩니다\n",
        "\n",
        "url = 'https://app.deepnatural.ai/projects'\n",
        "driver.get(url)\n",
        "time.sleep(2)\n",
        "driver.current_url\n",
        "\n",
        "try:\n",
        "  banner = driver.find_elements(By.TAG_NAME, 'button')\n",
        "  banner[-2].click()\n",
        "except:\n",
        "  print(i)\n",
        "\n",
        "time.sleep(2)\n",
        "driver.save_screenshot('check.png')"
      ],
      "execution_count": null,
      "outputs": [
        {
          "output_type": "execute_result",
          "data": {
            "text/plain": [
              "True"
            ]
          },
          "metadata": {},
          "execution_count": 3
        }
      ]
    },
    {
      "cell_type": "markdown",
      "metadata": {
        "id": "cZiK2Z6SW82B"
      },
      "source": [
        "현재 공개된 프로젝트 크롤링"
      ]
    },
    {
      "cell_type": "code",
      "metadata": {
        "id": "PzMmkbvfi3Fa"
      },
      "source": [
        "# 공개\n",
        "project_all = driver.find_element(By.XPATH, '/html/body/div[1]/div[1]/div/main/div/div[2]/div/div')\n",
        "items = project_all.find_elements(By.CLASS_NAME, 'project-card.project-item')\n",
        "\n",
        "reply_list_able = []\n",
        "\n",
        "for num in range(len(items)):\n",
        "  project_all = driver.find_element(By.XPATH, '/html/body/div[1]/div[1]/div/main/div/div[2]/div/div')\n",
        "  items = project_all.find_elements(By.CLASS_NAME, 'project-card.project-item')\n",
        "  time.sleep(2)\n",
        "\n",
        "  data_type = items[num].find_element(By.CLASS_NAME, 'category.label').text\n",
        "  data_title = items[num].find_element(By.CLASS_NAME, 'title').text\n",
        "\n",
        "  data_content = ''\n",
        "  data_contents = items[num].find_elements(By.TAG_NAME, 'p')\n",
        "  for i in data_contents:\n",
        "    data_content = data_content + '\\n' + i.text\n",
        "\n",
        "  data_collect_rate = items[num].find_element(By.CLASS_NAME, 'value').text\n",
        "  data_price = items[num].find_element(By.CLASS_NAME, 'credit').text\n",
        "\n",
        "  data_detail = ''\n",
        "  action.click(items[num]).perform()\n",
        "  time.sleep(2)\n",
        "  detail_content = driver.find_elements(By.XPATH, '//*[@id=\"project-modal\"]/div/div[2]/div[1]/div/div[2]/div/p/*/*')\n",
        "\n",
        "  for content in detail_content:\n",
        "    data_detail = data_detail + '\\n' + content.text.strip()\n",
        "\n",
        "  driver.get(url)\n",
        "  \n",
        "  reply_list_able.append([data_type, data_title, data_content, data_collect_rate, data_price, data_detail])\n",
        "\n",
        "data = pd.DataFrame(reply_list_able)\n",
        "data.columns = ['type', 'title', 'content', 'rate', 'price', 'detail']\n",
        "\n",
        "data.to_csv('레이블러_공개.csv', encoding='utf-8-sig')"
      ],
      "execution_count": null,
      "outputs": []
    },
    {
      "cell_type": "markdown",
      "metadata": {
        "id": "ygK4kxCVDpgK"
      },
      "source": [
        "이후 코드는 레이블러 전체 데이터 리스트 가져오는 코드문"
      ]
    },
    {
      "cell_type": "code",
      "metadata": {
        "id": "IwJURnf0fEQk"
      },
      "source": [
        "project_all = driver.find_element(By.XPATH, '/html/body/div[1]/div[1]/div/main/div/div[4]/div/div')\n",
        "items = project_all.find_elements(By.CLASS_NAME, 'project-row.project-item')\n",
        "reply_list_all = []\n",
        "\n",
        "# 스크롤 다운\n",
        "while(True):\n",
        "  action.move_to_element(items[-1]).perform()\n",
        "  time.sleep(2)\n",
        "  next_item = project_all.find_elements(By.CLASS_NAME, 'project-row.project-item')\n",
        "\n",
        "  if items[-1] == next_item[-1]:\n",
        "    break\n",
        "  else:\n",
        "    items = next_item\n",
        "\n",
        "for item in items:\n",
        "  data_type = item.find_element(By.CLASS_NAME, 'category.label').text\n",
        "  data_title = item.find_element(By.CLASS_NAME, 'title').text\n",
        "  try:\n",
        "    data_content = item.find_element(By.TAG_NAME, 'p').text\n",
        "  except:\n",
        "    pass\n",
        "    \n",
        "  data_collect_rate = item.find_element(By.CLASS_NAME, 'value').text\n",
        "  data_price = item.find_element(By.CLASS_NAME, 'credit').text\n",
        "  \n",
        "  reply_list_all.append([data_type, data_title, data_content, data_collect_rate, data_price])\n",
        "\n",
        "# CSV파일로 저장\n",
        "data = pd.DataFrame(reply_list_all)\n",
        "data.columns = ['type', 'title', 'content', 'rate', 'price']\n",
        "\n",
        "data.to_csv('레이블러_전체.csv', encoding='utf-8-sig')"
      ],
      "execution_count": null,
      "outputs": []
    }
  ]
}